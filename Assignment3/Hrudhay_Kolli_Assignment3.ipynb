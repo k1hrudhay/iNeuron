{
  "nbformat": 4,
  "nbformat_minor": 0,
  "metadata": {
    "colab": {
      "name": "Untitled1.ipynb",
      "provenance": [],
      "collapsed_sections": []
    },
    "kernelspec": {
      "name": "python3",
      "display_name": "Python 3"
    }
  },
  "cells": [
    {
      "cell_type": "markdown",
      "metadata": {
        "id": "3lUxt3-xgWml",
        "colab_type": "text"
      },
      "source": [
        "#                                                       Assignment 3"
      ]
    },
    {
      "cell_type": "markdown",
      "metadata": {
        "id": "u28PKnbWgchl",
        "colab_type": "text"
      },
      "source": [
        "## Task 1\n"
      ]
    },
    {
      "cell_type": "markdown",
      "metadata": {
        "id": "r6XfUCNqgkLX",
        "colab_type": "text"
      },
      "source": [
        "### Question 1"
      ]
    },
    {
      "cell_type": "markdown",
      "metadata": {
        "id": "R8bA2tuggcer",
        "colab_type": "text"
      },
      "source": [
        "> Write a function to compute 5/0 and use try/except to catch the exceptions.\n"
      ]
    },
    {
      "cell_type": "code",
      "metadata": {
        "id": "Zx9KhD0LgmLd",
        "colab_type": "code",
        "colab": {
          "base_uri": "https://localhost:8080/",
          "height": 34
        },
        "outputId": "89a0a5bf-d012-4f5f-be48-4b64946229c9"
      },
      "source": [
        "def fun_divide(x,y):\n",
        "  try:\n",
        "    return x/y\n",
        "  except ZeroDivisionError as e:\n",
        "    print('Cannot divide a number by 0.')\n",
        "  \n",
        "fun_divide(5,0)"
      ],
      "execution_count": 5,
      "outputs": [
        {
          "output_type": "stream",
          "text": [
            "Cannot divide a number by 0.\n"
          ],
          "name": "stdout"
        }
      ]
    },
    {
      "cell_type": "markdown",
      "metadata": {
        "id": "hyfMhakRgcbe",
        "colab_type": "text"
      },
      "source": [
        "### Question 2"
      ]
    },
    {
      "cell_type": "markdown",
      "metadata": {
        "id": "OyNnJcHugcYs",
        "colab_type": "text"
      },
      "source": [
        "> Implement a Python program to generate all sentences where subject is in [\"Americans\",<br>\n",
        "\"Indians\"] and verb is in [\"Play\", \"watch\"] and the object is in [\"Baseball\",\"cricket\"].<br>\n",
        "Hint: Subject,Verb and Object should be declared in the program as shown below.<br>\n",
        "subjects=[\"Americans \",\"Indians\"]<br>\n",
        "verbs=[\"play\",\"watch\"]<br>\n",
        "objects=[\"Baseball\",\"Cricket\"]<br>\n",
        "Output should come as below:<br>\n",
        "Americans play Baseball.<br>\n",
        "Americans play Cricket.<br>\n",
        "Americans watch Baseball.<br>\n",
        "Americans watch Cricket.<br>\n",
        "Indians play Baseball.<br>\n",
        "Indians play Cricket.<br>\n",
        "Indians watch Baseball.<br>\n",
        "Indians watch Cricket.<br>"
      ]
    },
    {
      "cell_type": "code",
      "metadata": {
        "id": "pOWWSsg9hxQ1",
        "colab_type": "code",
        "colab": {
          "base_uri": "https://localhost:8080/",
          "height": 153
        },
        "outputId": "003f858e-a012-48ea-8772-b14474817f2b"
      },
      "source": [
        "def sentence_generator(subjects,verbs,objects):\n",
        "  for s in subjects:\n",
        "    for v in verbs:\n",
        "      for o in objects:\n",
        "        print(s + ' ' + v + ' ' + o)\n",
        "\n",
        "subjects=[\"Americans\",\"Indians\"]\n",
        "verbs=[\"play\",\"watch\"]\n",
        "objects=[\"Baseball\",\"Cricket\"]\n",
        "sentence_generator(subjects,verbs,objects)"
      ],
      "execution_count": 10,
      "outputs": [
        {
          "output_type": "stream",
          "text": [
            "Americans play Baseball\n",
            "Americans play Cricket\n",
            "Americans watch Baseball\n",
            "Americans watch Cricket\n",
            "Indians play Baseball\n",
            "Indians play Cricket\n",
            "Indians watch Baseball\n",
            "Indians watch Cricket\n"
          ],
          "name": "stdout"
        }
      ]
    },
    {
      "cell_type": "markdown",
      "metadata": {
        "id": "WKMD0ws3gcUc",
        "colab_type": "text"
      },
      "source": [
        "## Task 2"
      ]
    },
    {
      "cell_type": "markdown",
      "metadata": {
        "id": "6_P7pVZxgcRb",
        "colab_type": "text"
      },
      "source": [
        "### Question 1"
      ]
    },
    {
      "cell_type": "markdown",
      "metadata": {
        "id": "YFzMFLKegcOu",
        "colab_type": "text"
      },
      "source": [
        ">Write a function so that the columns of the output matrix are powers of the input vector.\n",
        "The order of the powers is determined by the increasing boolean argument. Specifically, when\n",
        "increasing is False, the i-th output column is the input vector raised element-wise to the power\n",
        "of N - i - 1.\n",
        "HINT: Such a matrix with a geometric progression in each row is named for AlexandreTheophile Vandermonde.\n"
      ]
    },
    {
      "cell_type": "code",
      "metadata": {
        "id": "Hv3JtvzQjew9",
        "colab_type": "code",
        "colab": {
          "base_uri": "https://localhost:8080/",
          "height": 34
        },
        "outputId": "46bf0436-2515-4d18-e6f8-f8d32ed81dd8"
      },
      "source": [
        "def matrix_generator(array):\n",
        "  n=m=len(array)\n",
        "  matrix = [[0 for x in range(len(array))] for y in range(len(array))]\n",
        "  for i in matrix:\n",
        "    i[0] = 1\n",
        "\n",
        "  for i in range(len(matrix)):\n",
        "    temp = matrix[i]\n",
        "    for j in range(1,len(temp)):\n",
        "      temp[j] = temp[j-1]*array[i]\n",
        "    \n",
        "  print(matrix)\n",
        "\n",
        "matrix_generator([1,2,3,4])\n"
      ],
      "execution_count": 63,
      "outputs": [
        {
          "output_type": "stream",
          "text": [
            "[[1, 1, 1, 1], [1, 2, 4, 8], [1, 3, 9, 27], [1, 4, 16, 64]]\n"
          ],
          "name": "stdout"
        }
      ]
    },
    {
      "cell_type": "code",
      "metadata": {
        "id": "vvpiYea8wG39",
        "colab_type": "code",
        "colab": {}
      },
      "source": [
        ""
      ],
      "execution_count": 0,
      "outputs": []
    }
  ]
}