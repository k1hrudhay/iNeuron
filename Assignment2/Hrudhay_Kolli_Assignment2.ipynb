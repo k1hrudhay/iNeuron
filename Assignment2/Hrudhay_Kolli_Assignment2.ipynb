{
  "nbformat": 4,
  "nbformat_minor": 0,
  "metadata": {
    "colab": {
      "name": "Untitled5.ipynb",
      "provenance": []
    },
    "kernelspec": {
      "name": "python3",
      "display_name": "Python 3"
    }
  },
  "cells": [
    {
      "cell_type": "markdown",
      "metadata": {
        "id": "55PjduJS-tNd",
        "colab_type": "text"
      },
      "source": [
        "# Assignment 2"
      ]
    },
    {
      "cell_type": "markdown",
      "metadata": {
        "id": "nwsqKzob-0KW",
        "colab_type": "text"
      },
      "source": [
        "## Task1 "
      ]
    },
    {
      "cell_type": "markdown",
      "metadata": {
        "id": "0Sgd0lt4-4xA",
        "colab_type": "text"
      },
      "source": [
        "### Question 1.1"
      ]
    },
    {
      "cell_type": "markdown",
      "metadata": {
        "id": "vUTLJusa-403",
        "colab_type": "text"
      },
      "source": [
        "> Write a Python Program to implement your own myreduce() function which works exactly like\n",
        "Python's built-in function reduce()"
      ]
    },
    {
      "cell_type": "code",
      "metadata": {
        "id": "qz6x9G5VAVA3",
        "colab_type": "code",
        "colab": {
          "base_uri": "https://localhost:8080/",
          "height": 35
        },
        "outputId": "44dfe663-1fb2-4e36-d61e-6dc894366447"
      },
      "source": [
        "def myreduce(fun,l):\n",
        "  sol = fun(l[0],l[1])\n",
        "  \n",
        "  for i in range(2,len(l)):\n",
        "    sol = fun(sol,l[i])\n",
        "\n",
        "  return sol\n",
        "\n",
        "fun = lambda x,y : x*y\n",
        "l=[1,2,3,4,5,6,7,8,9]\n",
        "ans = myreduce(fun,l)\n",
        "print(ans)\n"
      ],
      "execution_count": 55,
      "outputs": [
        {
          "output_type": "stream",
          "text": [
            "362880\n"
          ],
          "name": "stdout"
        }
      ]
    },
    {
      "cell_type": "code",
      "metadata": {
        "id": "OX4yYWfdQecj",
        "colab_type": "code",
        "colab": {
          "base_uri": "https://localhost:8080/",
          "height": 35
        },
        "outputId": "65e3bb11-7fcc-4cd1-bd13-97b0105628a0"
      },
      "source": [
        "from functools import reduce\n",
        "print(reduce(lambda x,y : x*y,[1,2,3,4,5,6,7,8,9]))"
      ],
      "execution_count": 56,
      "outputs": [
        {
          "output_type": "stream",
          "text": [
            "362880\n"
          ],
          "name": "stdout"
        }
      ]
    },
    {
      "cell_type": "markdown",
      "metadata": {
        "id": "glSHmxB_-44C",
        "colab_type": "text"
      },
      "source": [
        "### Question 1.2"
      ]
    },
    {
      "cell_type": "markdown",
      "metadata": {
        "id": "ExJLPM60-47G",
        "colab_type": "text"
      },
      "source": [
        "> Write a Python program to implement your own myfilter() function which works exactly like\n",
        "Python's built-in function filter()\n"
      ]
    },
    {
      "cell_type": "code",
      "metadata": {
        "id": "zM9sJj10RVIo",
        "colab_type": "code",
        "colab": {
          "base_uri": "https://localhost:8080/",
          "height": 35
        },
        "outputId": "f6942202-ceba-4fe6-be66-851b8fb5607c"
      },
      "source": [
        "def myfilter(fun,l):\n",
        "  sol = []\n",
        "  for i in l:\n",
        "    if fun(i):\n",
        "      sol.append(i)\n",
        "  \n",
        "  return sol\n",
        "\n",
        "\n",
        "fun = lambda x : x%2 != 0\n",
        "l=[1,2,3,4,5,6,7,8,9]\n",
        "ans = myfilter(fun,l)\n",
        "print(ans)"
      ],
      "execution_count": 58,
      "outputs": [
        {
          "output_type": "stream",
          "text": [
            "[1, 3, 5, 7, 9]\n"
          ],
          "name": "stdout"
        }
      ]
    },
    {
      "cell_type": "code",
      "metadata": {
        "id": "eYUsOALxR0F2",
        "colab_type": "code",
        "colab": {
          "base_uri": "https://localhost:8080/",
          "height": 35
        },
        "outputId": "49a4e511-7411-4b06-ec59-f4642e4e349a"
      },
      "source": [
        "print(list(filter(lambda x : x%2 != 0,[1,2,3,4,5,6,7,8,9])))"
      ],
      "execution_count": 59,
      "outputs": [
        {
          "output_type": "stream",
          "text": [
            "[1, 3, 5, 7, 9]\n"
          ],
          "name": "stdout"
        }
      ]
    },
    {
      "cell_type": "markdown",
      "metadata": {
        "id": "kI_At6vH-499",
        "colab_type": "text"
      },
      "source": [
        "### Question 2"
      ]
    },
    {
      "cell_type": "markdown",
      "metadata": {
        "id": "YvVMg3jq-5A0",
        "colab_type": "text"
      },
      "source": [
        "> Write List comprehensions to produce the following Lists<br>\n",
        "['A', 'C', 'A', 'D', 'G', 'I', ’L’, ‘ D’] <br>\n",
        "['x', 'xx', 'xxx', 'xxxx', 'y', 'yy', 'yyy', 'yyyy', 'z', 'zz', 'zzz', 'zzzz']<br>\n",
        "['x', 'y', 'z', 'xx', 'yy', 'zz', 'xx', 'yy', 'zz', 'xxxx', 'yyyy', 'zzzz']<br>\n",
        "[[2], [3], [4], [3], [4], [5], [4], [5], [6]]<br>\n",
        "[[2, 3, 4, 5], [3, 4, 5, 6], [4, 5, 6, 7], [5, 6, 7, 8]]<br>\n",
        "[(1, 1), (2, 1), (3, 1), (1, 2), (2, 2), (3, 2), (1, 3), (2, 3), (3, 3)]"
      ]
    },
    {
      "cell_type": "code",
      "metadata": {
        "id": "m1kY5Vq_EoZH",
        "colab_type": "code",
        "colab": {
          "base_uri": "https://localhost:8080/",
          "height": 121
        },
        "outputId": "8d3c2403-091f-4f55-dd3d-e392c1760728"
      },
      "source": [
        "lc1 = [i for i in 'ACADGILD']\n",
        "lc2 = [i*j for i in ['x','y','z'] for j in range(1,5)]\n",
        "lc3 = [i*j for i in range(1,5) for j in ['x','y','z']]\n",
        "lc4 = [[i+j] for i in range(2,5) for j in range(0,3)]\n",
        "lc5 = [[i+j for i in range(2,6) ] for j in range(0,4)]\n",
        "lc6 = [(i,j) for i in range(1,4) for j in range(1,4)]\n",
        "\n",
        "print(lc1)\n",
        "print(lc2)\n",
        "print(lc3)\n",
        "print(lc4)\n",
        "print(lc5)\n",
        "print(lc6)"
      ],
      "execution_count": 65,
      "outputs": [
        {
          "output_type": "stream",
          "text": [
            "['A', 'C', 'A', 'D', 'G', 'I', 'L', 'D']\n",
            "['x', 'xx', 'xxx', 'xxxx', 'y', 'yy', 'yyy', 'yyyy', 'z', 'zz', 'zzz', 'zzzz']\n",
            "['x', 'y', 'z', 'xx', 'yy', 'zz', 'xxx', 'yyy', 'zzz', 'xxxx', 'yyyy', 'zzzz']\n",
            "[[2], [3], [4], [3], [4], [5], [4], [5], [6]]\n",
            "[[2, 3, 4, 5], [3, 4, 5, 6], [4, 5, 6, 7], [5, 6, 7, 8]]\n",
            "[(1, 1), (1, 2), (1, 3), (2, 1), (2, 2), (2, 3), (3, 1), (3, 2), (3, 3)]\n"
          ],
          "name": "stdout"
        }
      ]
    },
    {
      "cell_type": "markdown",
      "metadata": {
        "id": "c5ksEDAT-5Dr",
        "colab_type": "text"
      },
      "source": [
        "### Question 3"
      ]
    },
    {
      "cell_type": "markdown",
      "metadata": {
        "id": "yZsBNjAK_jOo",
        "colab_type": "text"
      },
      "source": [
        "> Implement a function longestWord() that takes a list of words and returns the longest one.\n"
      ]
    },
    {
      "cell_type": "code",
      "metadata": {
        "id": "_bIvTbwzBjb1",
        "colab_type": "code",
        "colab": {
          "base_uri": "https://localhost:8080/",
          "height": 35
        },
        "outputId": "b79f6a93-f0d3-4e8a-a4d7-a2d0097d3301"
      },
      "source": [
        "def longestWord(l):\n",
        "  length = 0\n",
        "  \n",
        "  for i in l:\n",
        "    if len(i) > length:\n",
        "      length = len(i)\n",
        "      word = i\n",
        "  return word\n",
        "\n",
        "l=['ijpoijwpeq',';lkajfpoew','jhoueshroier','wqkrpowheidpuerowuro','wqkjfijpwqoe','kwlkew','qwewqqfwqewqe']\n",
        "word = longestWord(l)\n",
        "print('The longest word is : ',word)"
      ],
      "execution_count": 10,
      "outputs": [
        {
          "output_type": "stream",
          "text": [
            "The longest word is :  wqkrpowheidpuerowuro\n"
          ],
          "name": "stdout"
        }
      ]
    },
    {
      "cell_type": "markdown",
      "metadata": {
        "id": "70CXE79X_jRO",
        "colab_type": "text"
      },
      "source": [
        "## Task 2"
      ]
    },
    {
      "cell_type": "markdown",
      "metadata": {
        "id": "IZh2skzW_jT-",
        "colab_type": "text"
      },
      "source": [
        "### Question 1.1"
      ]
    },
    {
      "cell_type": "markdown",
      "metadata": {
        "id": "RgG6LGjU_jWy",
        "colab_type": "text"
      },
      "source": [
        "> Write a Python Program(with class concepts) to find the area of the triangle using the below\n",
        "formula.\n",
        "area = (s*(s-a)*(s-b)*(s-c)) ** 0.5\n",
        "Function to take the length of the sides of triangle from user should be defined in the parent\n",
        "class and function to calculate the area should be defined in subclass."
      ]
    },
    {
      "cell_type": "code",
      "metadata": {
        "id": "K21zwBRTNd2u",
        "colab_type": "code",
        "colab": {
          "base_uri": "https://localhost:8080/",
          "height": 35
        },
        "outputId": "8d0f958e-2794-4f8b-a798-0e312eb38e6a"
      },
      "source": [
        "class Triangle:\n",
        "  def __init__(self,sides):\n",
        "    self.a = sides[0]\n",
        "    self.b = sides[1]\n",
        "    self.c = sides[2]\n",
        "\n",
        "  def area(self):\n",
        "    tri_area = self.Area().tri_area(self.a,self.b,self.c)\n",
        "    print(tri_area)\n",
        "\n",
        "  class Area:\n",
        "    def tri_area(self,a,b,c):\n",
        "      s = (a+b+c)/2\n",
        "      tri_area = (s*(s-a)*(s-b)*(s-c))*0.5\n",
        "      return tri_area\n",
        "\n",
        "triangle = Triangle([3,4,5])\n",
        "triangle.area()\n"
      ],
      "execution_count": 39,
      "outputs": [
        {
          "output_type": "stream",
          "text": [
            "18.0\n"
          ],
          "name": "stdout"
        }
      ]
    },
    {
      "cell_type": "markdown",
      "metadata": {
        "id": "q7qDPKhc_jZX",
        "colab_type": "text"
      },
      "source": [
        "### Question 1.2"
      ]
    },
    {
      "cell_type": "markdown",
      "metadata": {
        "id": "Qg0ZijTH_756",
        "colab_type": "text"
      },
      "source": [
        "> Write a function filter_long_words() that takes a list of words and an integer n and returns the list\n",
        "of words that are longer than n."
      ]
    },
    {
      "cell_type": "code",
      "metadata": {
        "id": "ag0UidjQDiQ9",
        "colab_type": "code",
        "colab": {
          "base_uri": "https://localhost:8080/",
          "height": 35
        },
        "outputId": "266caab2-9e2f-4d26-91f4-20eba15ae694"
      },
      "source": [
        "def filter_long_words(l,n):\n",
        "  return([i for i in l if len(i)>n])\n",
        "\n",
        "l=['ijpoijwpeq','lkajfpoew','jhoueshroier','wqkrpowheidpuerowuro','wqkjfijpwqoe','kwlkew','qwewqqfwqewqe']\n",
        "print(filter_long_words(l,10))\n",
        "\n"
      ],
      "execution_count": 16,
      "outputs": [
        {
          "output_type": "stream",
          "text": [
            "['jhoueshroier', 'wqkrpowheidpuerowuro', 'wqkjfijpwqoe', 'qwewqqfwqewqe']\n"
          ],
          "name": "stdout"
        }
      ]
    },
    {
      "cell_type": "markdown",
      "metadata": {
        "id": "lUggEgFX_78w",
        "colab_type": "text"
      },
      "source": [
        "### Question 2.1"
      ]
    },
    {
      "cell_type": "markdown",
      "metadata": {
        "id": "rxG548UO_7_h",
        "colab_type": "text"
      },
      "source": [
        "> Write a Python program using function concept that maps list of words into a list of integers\n",
        "representing the lengths of the corresponding words .\n",
        "Hint: If a list [ ab,cde,erty] is passed on to the python function output should come as [2,3,4]\n",
        "Here 2,3 and 4 are the lengths of the words in the list."
      ]
    },
    {
      "cell_type": "code",
      "metadata": {
        "id": "3DOT2KfmCiYb",
        "colab_type": "code",
        "colab": {
          "base_uri": "https://localhost:8080/",
          "height": 35
        },
        "outputId": "1eccfaf2-6dcf-49b4-97a1-d29ebed59ff9"
      },
      "source": [
        "def var_lenght(l):\n",
        "  for i in l:\n",
        "    return([len(i) for i in l])\n",
        "\n",
        "l=['ijpoijwpeq','lkajfpoew','jhoueshroier','wqkrpowheidpuerowuro','wqkjfijpwqoe','kwlkew','qwewqqfwqewqe']\n",
        "print('The lengths of the words are : ',var_lenght(l))"
      ],
      "execution_count": 12,
      "outputs": [
        {
          "output_type": "stream",
          "text": [
            "The lengths of the words are :  [10, 9, 12, 20, 12, 6, 13]\n"
          ],
          "name": "stdout"
        }
      ]
    },
    {
      "cell_type": "markdown",
      "metadata": {
        "id": "foNAji1q_8CN",
        "colab_type": "text"
      },
      "source": [
        "### Question 2.2"
      ]
    },
    {
      "cell_type": "markdown",
      "metadata": {
        "id": "x2TE1JIiAOm_",
        "colab_type": "text"
      },
      "source": [
        "> Write a Python function which takes a character (i.e. a string of length 1) and returns True if it is\n",
        "a vowel, False otherwise."
      ]
    },
    {
      "cell_type": "code",
      "metadata": {
        "id": "Tj4C4l2l82Tj",
        "colab_type": "code",
        "colab": {
          "base_uri": "https://localhost:8080/",
          "height": 104
        },
        "outputId": "753fc1e6-572c-4b47-efb5-31324526c183"
      },
      "source": [
        "def vowel(c):\n",
        "  return True if c.lower() in ['a','e','i','o','u'] else False\n",
        "\n",
        "l=['a','s','e','f','g']\n",
        "for i in l:\n",
        "  print(vowel(i))\n"
      ],
      "execution_count": 13,
      "outputs": [
        {
          "output_type": "stream",
          "text": [
            "True\n",
            "False\n",
            "True\n",
            "False\n",
            "False\n"
          ],
          "name": "stdout"
        }
      ]
    },
    {
      "cell_type": "code",
      "metadata": {
        "id": "3PEtl61sDZib",
        "colab_type": "code",
        "colab": {}
      },
      "source": [
        ""
      ],
      "execution_count": 0,
      "outputs": []
    }
  ]
}